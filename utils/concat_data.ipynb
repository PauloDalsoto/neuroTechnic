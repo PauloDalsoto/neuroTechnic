{
 "cells": [
  {
   "cell_type": "code",
   "execution_count": 1,
   "metadata": {},
   "outputs": [],
   "source": [
    "import time\n",
    "import serial\n",
    "import pandas as pd\n",
    "import matplotlib.pyplot as plt\n",
    "import plotly.express as px\n",
    "import numpy as np\n",
    "from scipy.fft import fft\n",
    "import plotly.graph_objects as go\n",
    "\n",
    "import matplotlib.pyplot as plt\n",
    "from scipy.signal import butter, filtfilt\n",
    "\n",
    "\n",
    "from sklearn.svm import LinearSVC, SVC\n",
    "from sklearn.linear_model import LogisticRegression, RidgeClassifier, SGDClassifier\n",
    "from sklearn.ensemble import RandomForestClassifier, GradientBoostingClassifier, AdaBoostClassifier, ExtraTreesClassifier, BaggingClassifier\n",
    "from sklearn.neighbors import KNeighborsClassifier\n",
    "from sklearn.tree import DecisionTreeClassifier, ExtraTreeClassifier\n",
    "from sklearn.naive_bayes import GaussianNB, MultinomialNB, ComplementNB\n",
    "from sklearn.discriminant_analysis import LinearDiscriminantAnalysis, QuadraticDiscriminantAnalysis\n",
    "from sklearn.neural_network import MLPClassifier\n",
    "from sklearn.gaussian_process import GaussianProcessClassifier\n",
    "\n",
    "from sklearn.metrics import accuracy_score, precision_score, recall_score, f1_score, confusion_matrix\n",
    "import seaborn as sns\n",
    "from sklearn.model_selection import train_test_split\n",
    "from sklearn.svm import LinearSVC\n",
    "from sklearn.metrics import accuracy_score\n",
    "from sklearn.preprocessing import StandardScaler\n",
    "\n"
   ]
  },
  {
   "cell_type": "code",
   "execution_count": 2,
   "metadata": {},
   "outputs": [
    {
     "name": "stdout",
     "output_type": "stream",
     "text": [
      "../data/bci_data_correto1.csv\n",
      "../data/bci_data_correto10.csv\n",
      "../data/bci_data_correto11.csv\n",
      "../data/bci_data_correto12.csv\n",
      "../data/bci_data_correto13.csv\n",
      "../data/bci_data_correto14.csv\n",
      "../data/bci_data_correto2.csv\n",
      "../data/bci_data_correto3.csv\n",
      "../data/bci_data_correto4.csv\n",
      "../data/bci_data_correto5.csv\n",
      "../data/bci_data_correto6.csv\n",
      "../data/bci_data_correto7.csv\n",
      "../data/bci_data_correto8.csv\n",
      "../data/bci_data_correto9.csv\n"
     ]
    }
   ],
   "source": [
    "import glob\n",
    "import os\n",
    "import pandas as pd\n",
    "\n",
    "# Procurar arquivos CSV no diretório especificado\n",
    "csv_files = glob.glob('../data/*.csv')\n",
    "\n",
    "# Normalizar os caminhos dos arquivos para usar barras '/'\n",
    "csv_files = [os.path.normpath(file).replace('\\\\', '/') for file in csv_files]\n",
    "for file in csv_files:\n",
    "    print(file)\n",
    "    "
   ]
  },
  {
   "cell_type": "code",
   "execution_count": 3,
   "metadata": {},
   "outputs": [
    {
     "name": "stdout",
     "output_type": "stream",
     "text": [
      "Processando arquivo ../data/bci_data_correto1.csv | 185001 amostras\n",
      "\n",
      "Processando arquivo ../data/bci_data_correto10.csv | 153601 amostras\n",
      "\n",
      "Processando arquivo ../data/bci_data_correto11.csv | 141624 amostras\n",
      "\n",
      "Processando arquivo ../data/bci_data_correto12.csv | 154303 amostras\n",
      "\n",
      "Processando arquivo ../data/bci_data_correto13.csv | 151061 amostras\n",
      "\n",
      "Processando arquivo ../data/bci_data_correto14.csv | 66421 amostras\n",
      "\n",
      "Processando arquivo ../data/bci_data_correto2.csv | 185492 amostras\n",
      "\n",
      "Processando arquivo ../data/bci_data_correto3.csv | 174240 amostras\n",
      "\n",
      "Processando arquivo ../data/bci_data_correto4.csv | 155924 amostras\n",
      "\n",
      "Processando arquivo ../data/bci_data_correto5.csv | 164941 amostras\n",
      "\n",
      "Processando arquivo ../data/bci_data_correto6.csv | 153751 amostras\n",
      "\n",
      "Processando arquivo ../data/bci_data_correto7.csv | 108662 amostras\n",
      "\n",
      "Processando arquivo ../data/bci_data_correto8.csv | 155521 amostras\n",
      "\n",
      "Processando arquivo ../data/bci_data_correto9.csv | 166140 amostras\n",
      "\n",
      "Total de medições: 2,116,682\n",
      "\n",
      "-----------------------------------\n",
      "\n",
      "Número total de janelas: 2246\n",
      "-----------------------------------\n",
      "\n",
      "Número de janelas com CONCENTRATION = 1: 1033\n",
      "Número de janelas com CONCENTRATION = 0: 1213\n"
     ]
    }
   ],
   "source": [
    "# Parâmetros \n",
    "window_size = 1250  # Número de amostras por janela\n",
    "overlap = 0.25  # Sobreposição entre janelas\n",
    "cutoff = 40 # Frequência de corte em Hz\n",
    "\n",
    "\n",
    "\n",
    "X_features = []\n",
    "y_labels = []\n",
    "medicoes = 0\n",
    "\n",
    "# Filtro passa-baixa\n",
    "def butter_lowpass_filter(data, cutoff, fs, order=5):\n",
    "    nyquist = 0.5 * fs\n",
    "    normal_cutoff = cutoff / nyquist\n",
    "    b, a = butter(order, normal_cutoff, btype='low', analog=False)\n",
    "    y = filtfilt(b, a, data)\n",
    "    return y\n",
    "\n",
    "# Definir parâmetros do filtro\n",
    "frequencia_amostragem = 250  # Taxa de amostragem média em Hz (ajustada para EEG típico)\n",
    "\n",
    "\n",
    "for file in csv_files:\n",
    "    # leitura do arquivo csv\n",
    "    data = pd.read_csv(file, sep=';')\n",
    "    data['TIMESTAMP'] = pd.to_datetime(data['TIMESTAMP'])\n",
    "    data['VALUE'] = data['VALUE']*(3.3/4098)\n",
    "    \n",
    "    print(f'Processando arquivo {file} | {data.shape[0]} amostras\\n')\n",
    "    medicoes += data.shape[0]\n",
    "    #####################################\n",
    "    # CRIAR JANELAS\n",
    "    #####################################\n",
    "\n",
    "    # Parâmetros\n",
    "    step_size = int(window_size * (1 - overlap))\n",
    "\n",
    "    # Lista para armazenar as janelas\n",
    "    windows = []\n",
    "    labels = []\n",
    "\n",
    "    # Criar janelas com sobreposição e atribuir labels\n",
    "    for start in range(0, len(data) - window_size + 1, step_size):\n",
    "        end = start + window_size\n",
    "        window = data.iloc[start:end]\n",
    "        \n",
    "        # Verificar se algum valor na janela tem CONCENTRATION = 1\n",
    "        if window['CONCENTRATION'].any() == 1:\n",
    "            labels.append(1)\n",
    "        else:\n",
    "            labels.append(0)\n",
    "            \n",
    "        windows.append(window)\n",
    "\n",
    "    # Adicionar as janelas e labels ao array de labels\n",
    "    y_labels.extend(labels)\n",
    "    \n",
    "    #####################################\n",
    "    # FILTRO EM TODAS JANELAS\n",
    "    #####################################\n",
    "    f_windows = []  # Lista para armazenar os DataFrames filtrados\n",
    "\n",
    "    # Iterar sobre as janelas para aplicar os filtros\n",
    "    for i, window in enumerate(windows):\n",
    "        # Extrair dados da janela\n",
    "        timestamp = np.array(window['TIMESTAMP'])\n",
    "        value = np.array(window['VALUE'])\n",
    "        \n",
    "        # Aplicar filtro passa-baixa\n",
    "        filtered_value = butter_lowpass_filter(value, cutoff, frequencia_amostragem)\n",
    "        \n",
    "        # Criar um DataFrame com os dados filtrados\n",
    "        filtered_window = pd.DataFrame({\n",
    "            'TIMESTAMP': timestamp,\n",
    "            'VALUE': filtered_value,\n",
    "        })\n",
    "        \n",
    "        # Adicionar o DataFrame filtrado à lista\n",
    "        f_windows.append(filtered_window)\n",
    "        \n",
    "    #####################################\n",
    "    # FFT\n",
    "    #####################################\n",
    "    # Inicializar o array para armazenar as características\n",
    "    ffts = []\n",
    "    \n",
    "    # Iterar sobre as janelas\n",
    "    for window in f_windows:\n",
    "        # Extrair os valores da primeira janela\n",
    "        values = window['VALUE'].values - np.mean(window['VALUE'].values)\n",
    "\n",
    "        # Calcular a taxa de amostragem como o inverso da média das diferenças de tempo\n",
    "        timestamp_diff = window['TIMESTAMP'].diff().dt.total_seconds()\n",
    "        sampling_rate = 1 / timestamp_diff[timestamp_diff > 0].mean()\n",
    "\n",
    "        # Calcular a FFT dos valores\n",
    "        fft_values = np.abs(fft(values))[:len(values)//2]\n",
    "        \n",
    "        # Adicionar a FFT ao array de características\n",
    "        ffts.append(fft_values)\n",
    "    \n",
    "    # Adicionar as características ao array de características\n",
    "    X_features.extend(ffts)\n",
    "        \n",
    "    # print(f'Arquivo {file} processado | {len(ffts)} janelas e {len(labels)} labels\\n')\n",
    "    # print('-----------------------------------\\n')\n",
    "\n",
    "# print total de medicoes separando por . as dezenas\n",
    "print(f'Total de medições: {medicoes:,}\\n')\n",
    "print('-----------------------------------\\n')\n",
    "\n",
    "X_features = np.array(X_features)\n",
    "y_labels = np.array(y_labels)\n",
    "\n",
    "print(f'Número total de janelas: {len(X_features)}')\n",
    "print('-----------------------------------\\n')\n",
    "\n",
    "print(f'Número de janelas com CONCENTRATION = 1: {np.sum(y_labels)}')\n",
    "print(f'Número de janelas com CONCENTRATION = 0: {len(y_labels) - np.sum(y_labels)}')"
   ]
  },
  {
   "cell_type": "markdown",
   "metadata": {},
   "source": [
    "----\n",
    "\n",
    "PROCESSAMENTO 2\n"
   ]
  },
  {
   "cell_type": "code",
   "execution_count": 4,
   "metadata": {},
   "outputs": [
    {
     "name": "stdout",
     "output_type": "stream",
     "text": [
      "Processando arquivo ../data/bci_data_correto1.csv | 185,001 amostras\n",
      "Processando arquivo ../data/bci_data_correto10.csv | 153,601 amostras\n",
      "Processando arquivo ../data/bci_data_correto11.csv | 141,624 amostras\n",
      "Processando arquivo ../data/bci_data_correto12.csv | 154,303 amostras\n",
      "Processando arquivo ../data/bci_data_correto13.csv | 151,061 amostras\n",
      "Processando arquivo ../data/bci_data_correto14.csv | 66,421 amostras\n",
      "Processando arquivo ../data/bci_data_correto2.csv | 185,492 amostras\n",
      "Processando arquivo ../data/bci_data_correto3.csv | 174,240 amostras\n",
      "Processando arquivo ../data/bci_data_correto4.csv | 155,924 amostras\n",
      "Processando arquivo ../data/bci_data_correto5.csv | 164,941 amostras\n",
      "Processando arquivo ../data/bci_data_correto6.csv | 153,751 amostras\n",
      "Processando arquivo ../data/bci_data_correto7.csv | 108,662 amostras\n",
      "Processando arquivo ../data/bci_data_correto8.csv | 155,521 amostras\n",
      "Processando arquivo ../data/bci_data_correto9.csv | 166,140 amostras\n",
      "Total de medições: 2,116,682\n",
      "\n",
      "-----------------------------------\n",
      "Número total de janelas: 1642\n",
      "-----------------------------------\n",
      "Número de janelas com CONCENTRATION = 1: 895\n",
      "Número de janelas com CONCENTRATION = 0: 747\n"
     ]
    }
   ],
   "source": [
    "import numpy as np\n",
    "import pandas as pd\n",
    "from scipy.signal import butter, filtfilt\n",
    "from scipy.fftpack import fft\n",
    "import pywt\n",
    "\n",
    "# Parâmetros\n",
    "window_size = 2952  # Número de amostras por janela\n",
    "overlap = 0.57  # Sobreposição entre janelas\n",
    "cutoff = 51  # Frequência de corte em Hz\n",
    "frequencia_amostragem = 250  # Taxa de amostragem média em Hz (ajustada para EEG típico)\n",
    "\n",
    "X_features = []\n",
    "y_labels = []\n",
    "medicoes = 0\n",
    "\n",
    "from scipy.interpolate import interp1d\n",
    "def pad_or_interpolate(array, target_length):\n",
    "    if len(array) < target_length:\n",
    "        # Padding\n",
    "        return np.pad(array, (0, target_length - len(array)), 'constant', constant_values=0)\n",
    "    elif len(array) > target_length:\n",
    "        # Interpolation\n",
    "        x = np.arange(len(array))\n",
    "        f = interp1d(x, array, kind='linear', fill_value='extrapolate')\n",
    "        x_new = np.linspace(0, len(array)-1, target_length)\n",
    "        return f(x_new)\n",
    "    else:\n",
    "        return array\n",
    "    \n",
    "# Filtro passa-baixa\n",
    "def butter_lowpass_filter(data, cutoff, fs, order=5):\n",
    "    nyquist = 0.5 * fs\n",
    "    normal_cutoff = cutoff / nyquist\n",
    "    b, a = butter(order, normal_cutoff, btype='low', analog=False)\n",
    "    y = filtfilt(b, a, data)\n",
    "    return y\n",
    "\n",
    "# Função para calcular a potência nas bandas de frequência usando FFT\n",
    "def band_power_fft(fft_values, freqs, band):\n",
    "    # Filtra as frequências que estão dentro da banda desejada\n",
    "    band_power = np.trapezoid(fft_values[(freqs >= band[0]) & (freqs <= band[1])], freqs[(freqs >= band[0]) & (freqs <= band[1])])\n",
    "    return band_power\n",
    "\n",
    "# Função para extrair features estatísticas\n",
    "def extract_stat_features(data):\n",
    "    mean = np.mean(data)\n",
    "    variance = np.var(data)\n",
    "    skewness = pd.Series(data).skew()\n",
    "    kurtosis = pd.Series(data).kurtosis()\n",
    "    return mean, variance, skewness, kurtosis\n",
    "\n",
    "# Função para aplicar a transformada wavelet\n",
    "def extract_wavelet_features(data, wavelet='db4'):\n",
    "    coeffs = pywt.wavedec(data, wavelet)\n",
    "    wavelet_features = []\n",
    "    for coeff in coeffs:\n",
    "        wavelet_features.extend([np.mean(coeff), np.var(coeff), np.min(coeff), np.max(coeff)])\n",
    "    return wavelet_features\n",
    "\n",
    "for file in csv_files:\n",
    "    # Leitura do arquivo CSV\n",
    "    data = pd.read_csv(file, sep=';')\n",
    "    data['TIMESTAMP'] = pd.to_datetime(data['TIMESTAMP'])\n",
    "    data['VALUE'] = data['VALUE'] * (3.3 / 4098)\n",
    "\n",
    "    print(f'Processando arquivo {file} | {data.shape[0]:,} amostras')\n",
    "    medicoes += data.shape[0]\n",
    "\n",
    "    # CRIAR JANELAS\n",
    "    step_size = int(window_size * (1 - overlap))\n",
    "    windows = []\n",
    "    labels = []\n",
    "\n",
    "    for start in range(0, len(data) - window_size + 1, step_size):\n",
    "        end = start + window_size\n",
    "        window = data.iloc[start:end]\n",
    "\n",
    "        # Verificar se algum valor na janela tem CONCENTRATION = 1\n",
    "        if window['CONCENTRATION'].any() == 1:\n",
    "            labels.append(1)\n",
    "        else:\n",
    "            labels.append(0)\n",
    "\n",
    "        windows.append(window)\n",
    "\n",
    "    y_labels.extend(labels)\n",
    "\n",
    "    # FILTRO EM TODAS JANELAS\n",
    "    f_windows = []\n",
    "    for i, window in enumerate(windows):\n",
    "        timestamp = np.array(window['TIMESTAMP'])\n",
    "        value = np.array(window['VALUE'])\n",
    "\n",
    "        # Aplicar filtro passa-baixa\n",
    "        filtered_value = butter_lowpass_filter(value, cutoff, frequencia_amostragem)\n",
    "        filtered_window = pd.DataFrame({'TIMESTAMP': timestamp, 'VALUE': filtered_value})\n",
    "        f_windows.append(filtered_window)\n",
    "\n",
    "    # Extração de Features\n",
    "    for window in f_windows:\n",
    "        values = window['VALUE'].values - np.mean(window['VALUE'].values)\n",
    "\n",
    "        # Taxa de amostragem\n",
    "        timestamp_diff = window['TIMESTAMP'].diff().dt.total_seconds()\n",
    "        sampling_rate = 1 / timestamp_diff[timestamp_diff > 0].mean()\n",
    "\n",
    "        # FFT\n",
    "        fft_values = np.abs(fft(values))[:len(values)//2]\n",
    "        freqs = np.fft.fftfreq(len(values), d=1/sampling_rate)[:len(values)//2]\n",
    "        fft_values_filtered = fft_values[freqs <= (cutoff + 5)]\n",
    "        \n",
    "        fixed_length = 348\n",
    "        fft_values_filtered = pad_or_interpolate(fft_values_filtered, fixed_length)\n",
    "        # print(f'Comprimento FFT Filtrada: {len(fft_values_filtered)}')\n",
    "\n",
    "        # Potência nas bandas de frequência usando FFT\n",
    "        delta_power = band_power_fft(fft_values, freqs, [0.5, 4])\n",
    "        theta_power = band_power_fft(fft_values, freqs, [4, 8])\n",
    "        alpha_power = band_power_fft(fft_values, freqs, [8, 13])\n",
    "        beta_power = band_power_fft(fft_values, freqs, [13, 30])\n",
    "\n",
    "        # Features estatísticas\n",
    "        mean, variance, skewness, kurtosis = extract_stat_features(values)\n",
    "\n",
    "        # Transformada Wavelet\n",
    "        wavelet_features = extract_wavelet_features(values)\n",
    "\n",
    "        # Combinar todas as features\n",
    "        # features = list(fft_values) + [delta_power, theta_power, alpha_power, beta_power, mean, variance, skewness, kurtosis] + wavelet_features\n",
    "        # features =  list(fft_values) + [delta_power, theta_power, alpha_power, beta_power] #MLP Classifier\t0.757911\t0.780645\t0.640212\t0.703488\n",
    "        features =  list(fft_values_filtered) + list(wavelet_features)\n",
    "\n",
    "        X_features.append(features)\n",
    "\n",
    "# Conversão para arrays numpy\n",
    "X_features = np.array(X_features)\n",
    "y_labels = np.array(y_labels)\n",
    "\n",
    "print(f'Total de medições: {medicoes:,}\\n')\n",
    "print('-----------------------------------')\n",
    "\n",
    "print(f'Número total de janelas: {len(X_features)}')\n",
    "print('-----------------------------------')\n",
    "\n",
    "print(f'Número de janelas com CONCENTRATION = 1: {np.sum(y_labels)}')\n",
    "print(f'Número de janelas com CONCENTRATION = 0: {len(y_labels) - np.sum(y_labels)}')\n"
   ]
  },
  {
   "cell_type": "markdown",
   "metadata": {},
   "source": [
    "TREINAMENTO"
   ]
  },
  {
   "cell_type": "code",
   "execution_count": 5,
   "metadata": {},
   "outputs": [
    {
     "name": "stdout",
     "output_type": "stream",
     "text": [
      "Tamanho treino: (1149, 384)\n",
      "Tamanho teste: (493, 384)\n"
     ]
    }
   ],
   "source": [
    "# # nomralize X_features\n",
    "# scaler = StandardScaler()\n",
    "# X_features = scaler.fit_transform(X_features)\n",
    "\n",
    "# Dividir os dados em conjuntos de treinamento e teste\n",
    "X_train, X_test, y_train, y_test = train_test_split(X_features, y_labels, test_size=0.3, random_state=74)\n",
    "\n",
    "print(f\"Tamanho treino: {X_train.shape}\")\n",
    "print(f\"Tamanho teste: {X_test.shape}\")"
   ]
  },
  {
   "cell_type": "code",
   "execution_count": 6,
   "metadata": {},
   "outputs": [
    {
     "name": "stdout",
     "output_type": "stream",
     "text": [
      "\tClassifier: LinearSVC\n",
      "\tAccuracy: 0.6795131845841785\n",
      "\tPrecision: 0.7351778656126482\n",
      "\tRecall: 0.6714801444043321\n",
      "\tF1-score: 0.7018867924528301\n"
     ]
    },
    {
     "data": {
      "image/png": "[encoded data removed]",
      "text/plain": [
       "<Figure size 400x300 with 1 Axes>"
      ]
     },
     "metadata": {},
     "output_type": "display_data"
    },
    {
     "name": "stdout",
     "output_type": "stream",
     "text": [
      "\n",
      "\n",
      "\tClassifier: Logistic Regression\n",
      "\tAccuracy: 0.6835699797160243\n",
      "\tPrecision: 0.7391304347826086\n",
      "\tRecall: 0.6750902527075813\n",
      "\tF1-score: 0.7056603773584905\n"
     ]
    },
    {
     "name": "stderr",
     "output_type": "stream",
     "text": [
      "C:\\Users\\I749044\\AppData\\Local\\Temp\\ipykernel_21272\\4137450559.py:53: FutureWarning: The behavior of DataFrame concatenation with empty or all-NA entries is deprecated. In a future version, this will no longer exclude empty or all-NA columns when determining the result dtypes. To retain the old behavior, exclude the relevant entries before the concat operation.\n",
      "  results = pd.concat([results, pd.DataFrame({'Model': [name], 'Accuracy': [accuracy], 'Precision': [precision], 'Recall': [recall], 'F1': [f1]})], ignore_index=True)\n",
      "c:\\Users\\I749044\\Documents\\neuroTests\\neuroTechnic\\.venv\\Lib\\site-packages\\sklearn\\linear_model\\_logistic.py:469: ConvergenceWarning: lbfgs failed to converge (status=1):\n",
      "STOP: TOTAL NO. of ITERATIONS REACHED LIMIT.\n",
      "\n",
      "Increase the number of iterations (max_iter) or scale the data as shown in:\n",
      "    https://scikit-learn.org/stable/modules/preprocessing.html\n",
      "Please also refer to the documentation for alternative solver options:\n",
      "    https://scikit-learn.org/stable/modules/linear_model.html#logistic-regression\n",
      "  n_iter_i = _check_optimize_result(\n"
     ]
    },
    {
     "data": {
      "image/png": "[encoded data removed]",
      "text/plain": [
       "<Figure size 400x300 with 1 Axes>"
      ]
     },
     "metadata": {},
     "output_type": "display_data"
    },
    {
     "name": "stdout",
     "output_type": "stream",
     "text": [
      "\n",
      "\n",
      "\tClassifier: Random Forest\n",
      "\tAccuracy: 0.7809330628803245\n",
      "\tPrecision: 0.800711743772242\n",
      "\tRecall: 0.8122743682310469\n",
      "\tF1-score: 0.8064516129032258\n"
     ]
    },
    {
     "data": {
      "image/png": "[encoded data removed]",
      "text/plain": [
       "<Figure size 400x300 with 1 Axes>"
      ]
     },
     "metadata": {},
     "output_type": "display_data"
    },
    {
     "name": "stdout",
     "output_type": "stream",
     "text": [
      "\n",
      "\n",
      "\tClassifier: K-Nearest Neighbors\n",
      "\tAccuracy: 0.7241379310344828\n",
      "\tPrecision: 0.7786561264822134\n",
      "\tRecall: 0.7111913357400722\n",
      "\tF1-score: 0.7433962264150943\n"
     ]
    },
    {
     "data": {
      "image/png": "[encoded data removed]",
      "text/plain": [
       "<Figure size 400x300 with 1 Axes>"
      ]
     },
     "metadata": {},
     "output_type": "display_data"
    },
    {
     "name": "stdout",
     "output_type": "stream",
     "text": [
      "\n",
      "\n",
      "\tClassifier: Gradient Boosting\n",
      "\tAccuracy: 0.8052738336713996\n",
      "\tPrecision: 0.8389513108614233\n",
      "\tRecall: 0.8086642599277978\n",
      "\tF1-score: 0.8235294117647058\n"
     ]
    },
    {
     "data": {
      "image/png": "[encoded data removed]",
      "text/plain": [
       "<Figure size 400x300 with 1 Axes>"
      ]
     },
     "metadata": {},
     "output_type": "display_data"
    },
    {
     "name": "stdout",
     "output_type": "stream",
     "text": [
      "\n",
      "\n",
      "\tClassifier: Decision Tree\n",
      "\tAccuracy: 0.7018255578093306\n",
      "\tPrecision: 0.7443609022556391\n",
      "\tRecall: 0.7148014440433214\n",
      "\tF1-score: 0.7292817679558011\n"
     ]
    },
    {
     "data": {
      "image/png": "[encoded data removed]",
      "text/plain": [
       "<Figure size 400x300 with 1 Axes>"
      ]
     },
     "metadata": {},
     "output_type": "display_data"
    },
    {
     "name": "stdout",
     "output_type": "stream",
     "text": [
      "\n",
      "\n",
      "\tClassifier: Gaussian Naive Bayes\n",
      "\tAccuracy: 0.665314401622718\n",
      "\tPrecision: 0.8255813953488372\n",
      "\tRecall: 0.5126353790613718\n",
      "\tF1-score: 0.6325167037861915\n"
     ]
    },
    {
     "data": {
      "image/png": "[encoded data removed]",
      "text/plain": [
       "<Figure size 400x300 with 1 Axes>"
      ]
     },
     "metadata": {},
     "output_type": "display_data"
    },
    {
     "name": "stdout",
     "output_type": "stream",
     "text": [
      "\n",
      "\n",
      "\tClassifier: Support Vector Classifier\n",
      "\tAccuracy: 0.7383367139959433\n",
      "\tPrecision: 0.7642857142857142\n",
      "\tRecall: 0.7725631768953068\n",
      "\tF1-score: 0.7684021543985637\n"
     ]
    },
    {
     "data": {
      "image/png": "[encoded data removed]",
      "text/plain": [
       "<Figure size 400x300 with 1 Axes>"
      ]
     },
     "metadata": {},
     "output_type": "display_data"
    },
    {
     "name": "stdout",
     "output_type": "stream",
     "text": [
      "\n",
      "\n"
     ]
    },
    {
     "name": "stderr",
     "output_type": "stream",
     "text": [
      "c:\\Users\\I749044\\Documents\\neuroTests\\neuroTechnic\\.venv\\Lib\\site-packages\\sklearn\\ensemble\\_weight_boosting.py:527: FutureWarning: The SAMME.R algorithm (the default) is deprecated and will be removed in 1.6. Use the SAMME algorithm to circumvent this warning.\n",
      "  warnings.warn(\n"
     ]
    },
    {
     "name": "stdout",
     "output_type": "stream",
     "text": [
      "\tClassifier: AdaBoost Classifier\n",
      "\tAccuracy: 0.768762677484787\n",
      "\tPrecision: 0.8075471698113208\n",
      "\tRecall: 0.7725631768953068\n",
      "\tF1-score: 0.7896678966789668\n"
     ]
    },
    {
     "data": {
      "image/png": "[encoded data removed]",
      "text/plain": [
       "<Figure size 400x300 with 1 Axes>"
      ]
     },
     "metadata": {},
     "output_type": "display_data"
    },
    {
     "name": "stdout",
     "output_type": "stream",
     "text": [
      "\n",
      "\n",
      "\tClassifier: Linear Discriminant Analysis\n",
      "\tAccuracy: 0.6896551724137931\n",
      "\tPrecision: 0.7440944881889764\n",
      "\tRecall: 0.6823104693140795\n",
      "\tF1-score: 0.711864406779661\n"
     ]
    },
    {
     "data": {
      "image/png": "[encoded data removed]",
      "text/plain": [
       "<Figure size 400x300 with 1 Axes>"
      ]
     },
     "metadata": {},
     "output_type": "display_data"
    },
    {
     "name": "stdout",
     "output_type": "stream",
     "text": [
      "\n",
      "\n",
      "\tClassifier: MLP Classifier\n",
      "\tAccuracy: 0.4381338742393509\n",
      "\tPrecision: 0.0\n",
      "\tRecall: 0.0\n",
      "\tF1-score: 0.0\n"
     ]
    },
    {
     "name": "stderr",
     "output_type": "stream",
     "text": [
      "c:\\Users\\I749044\\Documents\\neuroTests\\neuroTechnic\\.venv\\Lib\\site-packages\\sklearn\\metrics\\_classification.py:1531: UndefinedMetricWarning: Precision is ill-defined and being set to 0.0 due to no predicted samples. Use `zero_division` parameter to control this behavior.\n",
      "  _warn_prf(average, modifier, f\"{metric.capitalize()} is\", len(result))\n"
     ]
    },
    {
     "data": {
      "image/png": "[encoded data removed]",
      "text/plain": [
       "<Figure size 400x300 with 1 Axes>"
      ]
     },
     "metadata": {},
     "output_type": "display_data"
    },
    {
     "name": "stdout",
     "output_type": "stream",
     "text": [
      "\n",
      "\n"
     ]
    },
    {
     "data": {
      "text/html": [
       "<div>\n",
       "<style scoped>\n",
       "    .dataframe tbody tr th:only-of-type {\n",
       "        vertical-align: middle;\n",
       "    }\n",
       "\n",
       "    .dataframe tbody tr th {\n",
       "        vertical-align: top;\n",
       "    }\n",
       "\n",
       "    .dataframe thead th {\n",
       "        text-align: right;\n",
       "    }\n",
       "</style>\n",
       "<table border=\"1\" class=\"dataframe\">\n",
       "  <thead>\n",
       "    <tr style=\"text-align: right;\">\n",
       "      <th></th>\n",
       "      <th>Model</th>\n",
       "      <th>Accuracy</th>\n",
       "      <th>Precision</th>\n",
       "      <th>Recall</th>\n",
       "      <th>F1</th>\n",
       "    </tr>\n",
       "  </thead>\n",
       "  <tbody>\n",
       "    <tr>\n",
       "      <th>4</th>\n",
       "      <td>Gradient Boosting</td>\n",
       "      <td>0.805274</td>\n",
       "      <td>0.838951</td>\n",
       "      <td>0.808664</td>\n",
       "      <td>0.823529</td>\n",
       "    </tr>\n",
       "    <tr>\n",
       "      <th>2</th>\n",
       "      <td>Random Forest</td>\n",
       "      <td>0.780933</td>\n",
       "      <td>0.800712</td>\n",
       "      <td>0.812274</td>\n",
       "      <td>0.806452</td>\n",
       "    </tr>\n",
       "    <tr>\n",
       "      <th>8</th>\n",
       "      <td>AdaBoost Classifier</td>\n",
       "      <td>0.768763</td>\n",
       "      <td>0.807547</td>\n",
       "      <td>0.772563</td>\n",
       "      <td>0.789668</td>\n",
       "    </tr>\n",
       "    <tr>\n",
       "      <th>7</th>\n",
       "      <td>Support Vector Classifier</td>\n",
       "      <td>0.738337</td>\n",
       "      <td>0.764286</td>\n",
       "      <td>0.772563</td>\n",
       "      <td>0.768402</td>\n",
       "    </tr>\n",
       "    <tr>\n",
       "      <th>3</th>\n",
       "      <td>K-Nearest Neighbors</td>\n",
       "      <td>0.724138</td>\n",
       "      <td>0.778656</td>\n",
       "      <td>0.711191</td>\n",
       "      <td>0.743396</td>\n",
       "    </tr>\n",
       "    <tr>\n",
       "      <th>5</th>\n",
       "      <td>Decision Tree</td>\n",
       "      <td>0.701826</td>\n",
       "      <td>0.744361</td>\n",
       "      <td>0.714801</td>\n",
       "      <td>0.729282</td>\n",
       "    </tr>\n",
       "    <tr>\n",
       "      <th>9</th>\n",
       "      <td>Linear Discriminant Analysis</td>\n",
       "      <td>0.689655</td>\n",
       "      <td>0.744094</td>\n",
       "      <td>0.682310</td>\n",
       "      <td>0.711864</td>\n",
       "    </tr>\n",
       "    <tr>\n",
       "      <th>1</th>\n",
       "      <td>Logistic Regression</td>\n",
       "      <td>0.683570</td>\n",
       "      <td>0.739130</td>\n",
       "      <td>0.675090</td>\n",
       "      <td>0.705660</td>\n",
       "    </tr>\n",
       "    <tr>\n",
       "      <th>0</th>\n",
       "      <td>LinearSVC</td>\n",
       "      <td>0.679513</td>\n",
       "      <td>0.735178</td>\n",
       "      <td>0.671480</td>\n",
       "      <td>0.701887</td>\n",
       "    </tr>\n",
       "    <tr>\n",
       "      <th>6</th>\n",
       "      <td>Gaussian Naive Bayes</td>\n",
       "      <td>0.665314</td>\n",
       "      <td>0.825581</td>\n",
       "      <td>0.512635</td>\n",
       "      <td>0.632517</td>\n",
       "    </tr>\n",
       "    <tr>\n",
       "      <th>10</th>\n",
       "      <td>MLP Classifier</td>\n",
       "      <td>0.438134</td>\n",
       "      <td>0.000000</td>\n",
       "      <td>0.000000</td>\n",
       "      <td>0.000000</td>\n",
       "    </tr>\n",
       "  </tbody>\n",
       "</table>\n",
       "</div>"
      ],
      "text/plain": [
       "                           Model  Accuracy  Precision    Recall        F1\n",
       "4              Gradient Boosting  0.805274   0.838951  0.808664  0.823529\n",
       "2                  Random Forest  0.780933   0.800712  0.812274  0.806452\n",
       "8            AdaBoost Classifier  0.768763   0.807547  0.772563  0.789668\n",
       "7      Support Vector Classifier  0.738337   0.764286  0.772563  0.768402\n",
       "3            K-Nearest Neighbors  0.724138   0.778656  0.711191  0.743396\n",
       "5                  Decision Tree  0.701826   0.744361  0.714801  0.729282\n",
       "9   Linear Discriminant Analysis  0.689655   0.744094  0.682310  0.711864\n",
       "1            Logistic Regression  0.683570   0.739130  0.675090  0.705660\n",
       "0                      LinearSVC  0.679513   0.735178  0.671480  0.701887\n",
       "6           Gaussian Naive Bayes  0.665314   0.825581  0.512635  0.632517\n",
       "10                MLP Classifier  0.438134   0.000000  0.000000  0.000000"
      ]
     },
     "execution_count": 6,
     "metadata": {},
     "output_type": "execute_result"
    }
   ],
   "source": [
    "classifiers = {\n",
    "    'LinearSVC': LinearSVC(),\n",
    "    'Logistic Regression': LogisticRegression(),\n",
    "    'Random Forest': RandomForestClassifier(),\n",
    "    'K-Nearest Neighbors': KNeighborsClassifier(),\n",
    "    'Gradient Boosting': GradientBoostingClassifier(),\n",
    "    'Decision Tree': DecisionTreeClassifier(),\n",
    "    'Gaussian Naive Bayes': GaussianNB(),\n",
    "    'Support Vector Classifier': SVC(),\n",
    "    'AdaBoost Classifier': AdaBoostClassifier(),\n",
    "    'Linear Discriminant Analysis': LinearDiscriminantAnalysis(),\n",
    "    'MLP Classifier': MLPClassifier(hidden_layer_sizes=(24, 8, 6, 4), max_iter=1000, early_stopping=True )\n",
    "}\n",
    "\n",
    "\n",
    "results = pd.DataFrame(columns=['Model', 'Accuracy', 'Precision', 'Recall', 'F1'])\n",
    "\n",
    "# Loop sobre cada classificador\n",
    "for name, clf in classifiers.items():\n",
    "    # Treinar o classificador\n",
    "    clf.fit(X_train, y_train)\n",
    "    \n",
    "    # Prever os rótulos do conjunto de teste\n",
    "    y_pred = clf.predict(X_test)\n",
    "    \n",
    "    # Calcular métricas\n",
    "    accuracy = accuracy_score(y_test, y_pred)\n",
    "    precision = precision_score(y_test, y_pred)\n",
    "    recall = recall_score(y_test, y_pred)\n",
    "    f1 = f1_score(y_test, y_pred)\n",
    "    \n",
    "    # Imprimir métricas\n",
    "    print(f\"\\tClassifier: {name}\")\n",
    "    print(f\"\\tAccuracy: {accuracy}\")\n",
    "    print(f\"\\tPrecision: {precision}\")\n",
    "    print(f\"\\tRecall: {recall}\")\n",
    "    print(f\"\\tF1-score: {f1}\")\n",
    "    \n",
    "    # Calcular a matriz de confusão\n",
    "    conf_matrix = confusion_matrix(y_test, y_pred)\n",
    "    \n",
    "    # Plotar a matriz de confusão\n",
    "    plt.figure(figsize=(4, 3))\n",
    "    sns.heatmap(conf_matrix, annot=True, fmt=\"d\", cmap=\"Blues\", cbar=False)\n",
    "    plt.xlabel('Previsto')\n",
    "    plt.ylabel('Verdadeiro')\n",
    "    plt.show()\n",
    "    # plt.title(f'Matriz de confusão - {name}')\n",
    "\n",
    "    print(\"\\n\")\n",
    "\n",
    "    #create a dataframe with the results linke model name, accuracy, precision, recall and f1\n",
    "    results = pd.concat([results, pd.DataFrame({'Model': [name], 'Accuracy': [accuracy], 'Precision': [precision], 'Recall': [recall], 'F1': [f1]})], ignore_index=True)\n",
    "\n",
    "# print the results ordered by f1 score and accuracy\n",
    "results = results.sort_values(by='Accuracy', ascending=False)\n",
    "results\n"
   ]
  },
  {
   "cell_type": "code",
   "execution_count": 7,
   "metadata": {},
   "outputs": [],
   "source": [
    "model = classifiers[\"Gradient Boosting\"]\n",
    "\n",
    "import pickle\n",
    "\n",
    "# Após treinar o modelo:\n",
    "with open('GB_mlp.pkl', 'wb') as f:\n",
    "    pickle.dump(model, f)\n"
   ]
  },
  {
   "cell_type": "code",
   "execution_count": 8,
   "metadata": {},
   "outputs": [
    {
     "data": {
      "application/vnd.plotly.v1+json": {
       "config": {
        "plotlyServerURL": "https://plot.ly"
       },
       "data": [
        {
         "hovertemplate": "Model=%{x}<br>Precisão (%)=%{y}<extra></extra>",
         "legendgroup": "",
         "line": {
          "color": "purple",
          "dash": "solid",
          "shape": "spline",
          "width": 3
         },
         "marker": {
          "size": 10,
          "symbol": "circle"
         },
         "mode": "lines+markers",
         "name": "",
         "orientation": "v",
         "showlegend": false,
         "type": "scatter",
         "x": [
          "Gradient Boosting",
          "Gaussian Naive Bayes",
          "AdaBoost Classifier",
          "Random Forest",
          "K-Nearest Neighbors",
          "Support Vector Classifier",
          "Decision Tree",
          "Linear Discriminant Analysis",
          "Logistic Regression",
          "LinearSVC",
          "MLP Classifier"
         ],
         "xaxis": "x",
         "y": [
          0.8389513108614233,
          0.8255813953488372,
          0.8075471698113208,
          0.800711743772242,
          0.7786561264822134,
          0.7642857142857142,
          0.7443609022556391,
          0.7440944881889764,
          0.7391304347826086,
          0.7351778656126482,
          0
         ],
         "yaxis": "y"
        }
       ],
       "layout": {
        "annotations": [
         {
          "arrowhead": 1,
          "showarrow": false,
          "text": "Gradient Boosting <br>(0.84%)",
          "x": "Gradient Boosting",
          "xshift": 10,
          "y": 0.8389513108614233,
          "yshift": 25
         },
         {
          "arrowhead": 2,
          "showarrow": false,
          "text": "MLP Classifier <br>(0.00%)",
          "x": "MLP Classifier",
          "xshift": 30,
          "y": 0,
          "yshift": 20
         }
        ],
        "height": 400,
        "legend": {
         "tracegroupgap": 0
        },
        "plot_bgcolor": "rgba(0,0,0,0)",
        "template": {
         "data": {
          "bar": [
           {
            "error_x": {
             "color": "#2a3f5f"
            },
            "error_y": {
             "color": "#2a3f5f"
            },
            "marker": {
             "line": {
              "color": "#E5ECF6",
              "width": 0.5
             },
             "pattern": {
              "fillmode": "overlay",
              "size": 10,
              "solidity": 0.2
             }
            },
            "type": "bar"
           }
          ],
          "barpolar": [
           {
            "marker": {
             "line": {
              "color": "#E5ECF6",
              "width": 0.5
             },
             "pattern": {
              "fillmode": "overlay",
              "size": 10,
              "solidity": 0.2
             }
            },
            "type": "barpolar"
           }
          ],
          "carpet": [
           {
            "aaxis": {
             "endlinecolor": "#2a3f5f",
             "gridcolor": "white",
             "linecolor": "white",
             "minorgridcolor": "white",
             "startlinecolor": "#2a3f5f"
            },
            "baxis": {
             "endlinecolor": "#2a3f5f",
             "gridcolor": "white",
             "linecolor": "white",
             "minorgridcolor": "white",
             "startlinecolor": "#2a3f5f"
            },
            "type": "carpet"
           }
          ],
          "choropleth": [
           {
            "colorbar": {
             "outlinewidth": 0,
             "ticks": ""
            },
            "type": "choropleth"
           }
          ],
          "contour": [
           {
            "colorbar": {
             "outlinewidth": 0,
             "ticks": ""
            },
            "colorscale": [
             [
              0,
              "#0d0887"
             ],
             [
              0.1111111111111111,
              "#46039f"
             ],
             [
              0.2222222222222222,
              "#7201a8"
             ],
             [
              0.3333333333333333,
              "#9c179e"
             ],
             [
              0.4444444444444444,
              "#bd3786"
             ],
             [
              0.5555555555555556,
              "#d8576b"
             ],
             [
              0.6666666666666666,
              "#ed7953"
             ],
             [
              0.7777777777777778,
              "#fb9f3a"
             ],
             [
              0.8888888888888888,
              "#fdca26"
             ],
             [
              1,
              "#f0f921"
             ]
            ],
            "type": "contour"
           }
          ],
          "contourcarpet": [
           {
            "colorbar": {
             "outlinewidth": 0,
             "ticks": ""
            },
            "type": "contourcarpet"
           }
          ],
          "heatmap": [
           {
            "colorbar": {
             "outlinewidth": 0,
             "ticks": ""
            },
            "colorscale": [
             [
              0,
              "#0d0887"
             ],
             [
              0.1111111111111111,
              "#46039f"
             ],
             [
              0.2222222222222222,
              "#7201a8"
             ],
             [
              0.3333333333333333,
              "#9c179e"
             ],
             [
              0.4444444444444444,
              "#bd3786"
             ],
             [
              0.5555555555555556,
              "#d8576b"
             ],
             [
              0.6666666666666666,
              "#ed7953"
             ],
             [
              0.7777777777777778,
              "#fb9f3a"
             ],
             [
              0.8888888888888888,
              "#fdca26"
             ],
             [
              1,
              "#f0f921"
             ]
            ],
            "type": "heatmap"
           }
          ],
          "heatmapgl": [
           {
            "colorbar": {
             "outlinewidth": 0,
             "ticks": ""
            },
            "colorscale": [
             [
              0,
              "#0d0887"
             ],
             [
              0.1111111111111111,
              "#46039f"
             ],
             [
              0.2222222222222222,
              "#7201a8"
             ],
             [
              0.3333333333333333,
              "#9c179e"
             ],
             [
              0.4444444444444444,
              "#bd3786"
             ],
             [
              0.5555555555555556,
              "#d8576b"
             ],
             [
              0.6666666666666666,
              "#ed7953"
             ],
             [
              0.7777777777777778,
              "#fb9f3a"
             ],
             [
              0.8888888888888888,
              "#fdca26"
             ],
             [
              1,
              "#f0f921"
             ]
            ],
            "type": "heatmapgl"
           }
          ],
          "histogram": [
           {
            "marker": {
             "pattern": {
              "fillmode": "overlay",
              "size": 10,
              "solidity": 0.2
             }
            },
            "type": "histogram"
           }
          ],
          "histogram2d": [
           {
            "colorbar": {
             "outlinewidth": 0,
             "ticks": ""
            },
            "colorscale": [
             [
              0,
              "#0d0887"
             ],
             [
              0.1111111111111111,
              "#46039f"
             ],
             [
              0.2222222222222222,
              "#7201a8"
             ],
             [
              0.3333333333333333,
              "#9c179e"
             ],
             [
              0.4444444444444444,
              "#bd3786"
             ],
             [
              0.5555555555555556,
              "#d8576b"
             ],
             [
              0.6666666666666666,
              "#ed7953"
             ],
             [
              0.7777777777777778,
              "#fb9f3a"
             ],
             [
              0.8888888888888888,
              "#fdca26"
             ],
             [
              1,
              "#f0f921"
             ]
            ],
            "type": "histogram2d"
           }
          ],
          "histogram2dcontour": [
           {
            "colorbar": {
             "outlinewidth": 0,
             "ticks": ""
            },
            "colorscale": [
             [
              0,
              "#0d0887"
             ],
             [
              0.1111111111111111,
              "#46039f"
             ],
             [
              0.2222222222222222,
              "#7201a8"
             ],
             [
              0.3333333333333333,
              "#9c179e"
             ],
             [
              0.4444444444444444,
              "#bd3786"
             ],
             [
              0.5555555555555556,
              "#d8576b"
             ],
             [
              0.6666666666666666,
              "#ed7953"
             ],
             [
              0.7777777777777778,
              "#fb9f3a"
             ],
             [
              0.8888888888888888,
              "#fdca26"
             ],
             [
              1,
              "#f0f921"
             ]
            ],
            "type": "histogram2dcontour"
           }
          ],
          "mesh3d": [
           {
            "colorbar": {
             "outlinewidth": 0,
             "ticks": ""
            },
            "type": "mesh3d"
           }
          ],
          "parcoords": [
           {
            "line": {
             "colorbar": {
              "outlinewidth": 0,
              "ticks": ""
             }
            },
            "type": "parcoords"
           }
          ],
          "pie": [
           {
            "automargin": true,
            "type": "pie"
           }
          ],
          "scatter": [
           {
            "fillpattern": {
             "fillmode": "overlay",
             "size": 10,
             "solidity": 0.2
            },
            "type": "scatter"
           }
          ],
          "scatter3d": [
           {
            "line": {
             "colorbar": {
              "outlinewidth": 0,
              "ticks": ""
             }
            },
            "marker": {
             "colorbar": {
              "outlinewidth": 0,
              "ticks": ""
             }
            },
            "type": "scatter3d"
           }
          ],
          "scattercarpet": [
           {
            "marker": {
             "colorbar": {
              "outlinewidth": 0,
              "ticks": ""
             }
            },
            "type": "scattercarpet"
           }
          ],
          "scattergeo": [
           {
            "marker": {
             "colorbar": {
              "outlinewidth": 0,
              "ticks": ""
             }
            },
            "type": "scattergeo"
           }
          ],
          "scattergl": [
           {
            "marker": {
             "colorbar": {
              "outlinewidth": 0,
              "ticks": ""
             }
            },
            "type": "scattergl"
           }
          ],
          "scattermapbox": [
           {
            "marker": {
             "colorbar": {
              "outlinewidth": 0,
              "ticks": ""
             }
            },
            "type": "scattermapbox"
           }
          ],
          "scatterpolar": [
           {
            "marker": {
             "colorbar": {
              "outlinewidth": 0,
              "ticks": ""
             }
            },
            "type": "scatterpolar"
           }
          ],
          "scatterpolargl": [
           {
            "marker": {
             "colorbar": {
              "outlinewidth": 0,
              "ticks": ""
             }
            },
            "type": "scatterpolargl"
           }
          ],
          "scatterternary": [
           {
            "marker": {
             "colorbar": {
              "outlinewidth": 0,
              "ticks": ""
             }
            },
            "type": "scatterternary"
           }
          ],
          "surface": [
           {
            "colorbar": {
             "outlinewidth": 0,
             "ticks": ""
            },
            "colorscale": [
             [
              0,
              "#0d0887"
             ],
             [
              0.1111111111111111,
              "#46039f"
             ],
             [
              0.2222222222222222,
              "#7201a8"
             ],
             [
              0.3333333333333333,
              "#9c179e"
             ],
             [
              0.4444444444444444,
              "#bd3786"
             ],
             [
              0.5555555555555556,
              "#d8576b"
             ],
             [
              0.6666666666666666,
              "#ed7953"
             ],
             [
              0.7777777777777778,
              "#fb9f3a"
             ],
             [
              0.8888888888888888,
              "#fdca26"
             ],
             [
              1,
              "#f0f921"
             ]
            ],
            "type": "surface"
           }
          ],
          "table": [
           {
            "cells": {
             "fill": {
              "color": "#EBF0F8"
             },
             "line": {
              "color": "white"
             }
            },
            "header": {
             "fill": {
              "color": "#C8D4E3"
             },
             "line": {
              "color": "white"
             }
            },
            "type": "table"
           }
          ]
         },
         "layout": {
          "annotationdefaults": {
           "arrowcolor": "#2a3f5f",
           "arrowhead": 0,
           "arrowwidth": 1
          },
          "autotypenumbers": "strict",
          "coloraxis": {
           "colorbar": {
            "outlinewidth": 0,
            "ticks": ""
           }
          },
          "colorscale": {
           "diverging": [
            [
             0,
             "#8e0152"
            ],
            [
             0.1,
             "#c51b7d"
            ],
            [
             0.2,
             "#de77ae"
            ],
            [
             0.3,
             "#f1b6da"
            ],
            [
             0.4,
             "#fde0ef"
            ],
            [
             0.5,
             "#f7f7f7"
            ],
            [
             0.6,
             "#e6f5d0"
            ],
            [
             0.7,
             "#b8e186"
            ],
            [
             0.8,
             "#7fbc41"
            ],
            [
             0.9,
             "#4d9221"
            ],
            [
             1,
             "#276419"
            ]
           ],
           "sequential": [
            [
             0,
             "#0d0887"
            ],
            [
             0.1111111111111111,
             "#46039f"
            ],
            [
             0.2222222222222222,
             "#7201a8"
            ],
            [
             0.3333333333333333,
             "#9c179e"
            ],
            [
             0.4444444444444444,
             "#bd3786"
            ],
            [
             0.5555555555555556,
             "#d8576b"
            ],
            [
             0.6666666666666666,
             "#ed7953"
            ],
            [
             0.7777777777777778,
             "#fb9f3a"
            ],
            [
             0.8888888888888888,
             "#fdca26"
            ],
            [
             1,
             "#f0f921"
            ]
           ],
           "sequentialminus": [
            [
             0,
             "#0d0887"
            ],
            [
             0.1111111111111111,
             "#46039f"
            ],
            [
             0.2222222222222222,
             "#7201a8"
            ],
            [
             0.3333333333333333,
             "#9c179e"
            ],
            [
             0.4444444444444444,
             "#bd3786"
            ],
            [
             0.5555555555555556,
             "#d8576b"
            ],
            [
             0.6666666666666666,
             "#ed7953"
            ],
            [
             0.7777777777777778,
             "#fb9f3a"
            ],
            [
             0.8888888888888888,
             "#fdca26"
            ],
            [
             1,
             "#f0f921"
            ]
           ]
          },
          "colorway": [
           "#636efa",
           "#EF553B",
           "#00cc96",
           "#ab63fa",
           "#FFA15A",
           "#19d3f3",
           "#FF6692",
           "#B6E880",
           "#FF97FF",
           "#FECB52"
          ],
          "font": {
           "color": "#2a3f5f"
          },
          "geo": {
           "bgcolor": "white",
           "lakecolor": "white",
           "landcolor": "#E5ECF6",
           "showlakes": true,
           "showland": true,
           "subunitcolor": "white"
          },
          "hoverlabel": {
           "align": "left"
          },
          "hovermode": "closest",
          "mapbox": {
           "style": "light"
          },
          "paper_bgcolor": "white",
          "plot_bgcolor": "#E5ECF6",
          "polar": {
           "angularaxis": {
            "gridcolor": "white",
            "linecolor": "white",
            "ticks": ""
           },
           "bgcolor": "#E5ECF6",
           "radialaxis": {
            "gridcolor": "white",
            "linecolor": "white",
            "ticks": ""
           }
          },
          "scene": {
           "xaxis": {
            "backgroundcolor": "#E5ECF6",
            "gridcolor": "white",
            "gridwidth": 2,
            "linecolor": "white",
            "showbackground": true,
            "ticks": "",
            "zerolinecolor": "white"
           },
           "yaxis": {
            "backgroundcolor": "#E5ECF6",
            "gridcolor": "white",
            "gridwidth": 2,
            "linecolor": "white",
            "showbackground": true,
            "ticks": "",
            "zerolinecolor": "white"
           },
           "zaxis": {
            "backgroundcolor": "#E5ECF6",
            "gridcolor": "white",
            "gridwidth": 2,
            "linecolor": "white",
            "showbackground": true,
            "ticks": "",
            "zerolinecolor": "white"
           }
          },
          "shapedefaults": {
           "line": {
            "color": "#2a3f5f"
           }
          },
          "ternary": {
           "aaxis": {
            "gridcolor": "white",
            "linecolor": "white",
            "ticks": ""
           },
           "baxis": {
            "gridcolor": "white",
            "linecolor": "white",
            "ticks": ""
           },
           "bgcolor": "#E5ECF6",
           "caxis": {
            "gridcolor": "white",
            "linecolor": "white",
            "ticks": ""
           }
          },
          "title": {
           "x": 0.05
          },
          "xaxis": {
           "automargin": true,
           "gridcolor": "white",
           "linecolor": "white",
           "ticks": "",
           "title": {
            "standoff": 15
           },
           "zerolinecolor": "white",
           "zerolinewidth": 2
          },
          "yaxis": {
           "automargin": true,
           "gridcolor": "white",
           "linecolor": "white",
           "ticks": "",
           "title": {
            "standoff": 15
           },
           "zerolinecolor": "white",
           "zerolinewidth": 2
          }
         }
        },
        "title": {
         "text": "Precisão dos Modelos de Classificação"
        },
        "width": 900,
        "xaxis": {
         "anchor": "y",
         "domain": [
          0,
          1
         ],
         "gridcolor": "rgba(128, 128, 128, 0.3)",
         "linecolor": "rgba(0, 0, 0, 0.5)",
         "linewidth": 2,
         "showline": true,
         "tickangle": -45,
         "title": {
          "text": "Model"
         }
        },
        "yaxis": {
         "anchor": "x",
         "domain": [
          0,
          1
         ],
         "gridcolor": "rgba(128, 128, 128, 0.3)",
         "linecolor": "rgba(0, 0, 0, 0.5)",
         "linewidth": 2,
         "showline": true,
         "title": {
          "text": "Precisão (%)"
         }
        }
       }
      }
     },
     "metadata": {},
     "output_type": "display_data"
    },
    {
     "data": {
      "text/plain": [
       "<Figure size 300x600 with 0 Axes>"
      ]
     },
     "metadata": {},
     "output_type": "display_data"
    }
   ],
   "source": [
    "import plotly.express as px\n",
    "\n",
    "# Ordenar resultados por acurácia\n",
    "results = results.sort_values(by='Precision', ascending=False)\n",
    "\n",
    "# diminuir o tamanho do grafico\n",
    "plt.figure(figsize=(3, 6))\n",
    "\n",
    "# Plot com melhorias para storytelling\n",
    "fig = px.line(results, \n",
    "              x='Model', \n",
    "              y='Precision', \n",
    "              title='Precisão dos Modelos de Classificação',\n",
    "              labels={'Precision': 'Precisão (%)'},\n",
    "              line_shape='spline',\n",
    "              markers=True)\n",
    "\n",
    "# Ajustes visuais\n",
    "fig.update_traces(line=dict(color='purple', width=3), marker=dict(size=10, symbol='circle'))\n",
    "\n",
    "# Adicionar anotações\n",
    "best_model = results.iloc[0]\n",
    "worst_model = results.iloc[-1]\n",
    "\n",
    "fig.add_annotation(x=best_model['Model'], y=best_model['Precision'],\n",
    "                   text=f\"{best_model['Model']} <br>({best_model['Precision']:.2f}%)\",\n",
    "                   showarrow=False, arrowhead=1,\n",
    "                   xshift=10,\n",
    "                   yshift=25)\n",
    "\n",
    "fig.add_annotation(x=worst_model['Model'], y=worst_model['Precision'],\n",
    "                   text=f\"{worst_model['Model']} <br>({worst_model['Precision']:.2f}%)\",\n",
    "                   showarrow=False, arrowhead=2,\n",
    "                   xshift=30,\n",
    "                   yshift=20)\n",
    "\n",
    "fig.update_layout(\n",
    "    width=900,  # Definir largura do plot\n",
    "    height=400,  # Definir altura do plot\n",
    "    xaxis=dict(tickangle=-45, showline=True, linewidth=2, linecolor='rgba(0, 0, 0, 0.5)', gridcolor='rgba(128, 128, 128, 0.3)'),\n",
    "    yaxis=dict(showline=True, linewidth=2, linecolor='rgba(0, 0, 0, 0.5)', gridcolor='rgba(128, 128, 128, 0.3)'),\n",
    "    plot_bgcolor='rgba(0,0,0,0)'\n",
    ")\n",
    "\n",
    "# Mostrar o plot\n",
    "fig.show()\n"
   ]
  }
 ],
 "metadata": {
  "kernelspec": {
   "display_name": ".venv",
   "language": "python",
   "name": "python3"
  },
  "language_info": {
   "codemirror_mode": {
    "name": "ipython",
    "version": 3
   },
   "file_extension": ".py",
   "mimetype": "text/x-python",
   "name": "python",
   "nbconvert_exporter": "python",
   "pygments_lexer": "ipython3",
   "version": "3.12.4"
  }
 },
 "nbformat": 4,
 "nbformat_minor": 2
}
